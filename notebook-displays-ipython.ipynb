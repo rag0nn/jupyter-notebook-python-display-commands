{
 "cells": [
  {
   "cell_type": "code",
   "execution_count": 33,
   "id": "3a746854",
   "metadata": {},
   "outputs": [],
   "source": [
    "import numpy as np\n",
    "import matplotlib.pyplot as plt\n",
    "import ipywidgets as widgets\n",
    "import IPython.display as dp\n",
    "import time"
   ]
  },
  {
   "cell_type": "markdown",
   "id": "4fd58119",
   "metadata": {},
   "source": [
    "### Slider Widget"
   ]
  },
  {
   "cell_type": "code",
   "execution_count": 2,
   "id": "7fa932e4",
   "metadata": {
    "collapsed": true
   },
   "outputs": [
    {
     "data": {
      "application/vnd.jupyter.widget-view+json": {
       "model_id": "d92716ebacbe4d7d8ec9e0d6fe143416",
       "version_major": 2,
       "version_minor": 0
      },
      "text/plain": [
       "interactive(children=(FloatSlider(value=1.0, description='Slope:', max=2.0, min=0.1), Output()), _dom_classes=…"
      ]
     },
     "execution_count": 2,
     "metadata": {},
     "output_type": "execute_result"
    }
   ],
   "source": [
    "# Veri oluşturma\n",
    "x = np.linspace(0, 10, 100)\n",
    "\n",
    "def plot_line(m):\n",
    "    plt.plot(x, m*x)\n",
    "    plt.ylim(0, 10)\n",
    "    plt.xlabel('X')\n",
    "    plt.ylabel('Y')\n",
    "    plt.title(f'Line Plot with slope = {m}')\n",
    "    plt.show()\n",
    "\n",
    "# Slider oluşturma ve bir değişkene atama\n",
    "slope_slider = widgets.FloatSlider(value=1.0, min=0.1, max=2.0, step=0.1, description='Slope:')\n",
    "slope_value = slope_slider.value\n",
    "\n",
    "# İnteraktif görselleştirme\n",
    "widgets.interactive(plot_line, m=slope_slider)"
   ]
  },
  {
   "cell_type": "markdown",
   "id": "d2bfaba1",
   "metadata": {},
   "source": [
    "### JSON Görüntüleme"
   ]
  },
  {
   "cell_type": "code",
   "execution_count": 3,
   "id": "73769efc",
   "metadata": {
    "collapsed": true
   },
   "outputs": [
    {
     "data": {
      "text/html": [
       "<div id=\"3521f266-1bc3-42d7-af2d-2ebf7ce39c8e\" style=\"height: 600px; width:100%;\"></div>"
      ]
     },
     "metadata": {},
     "output_type": "display_data"
    },
    {
     "data": {
      "application/javascript": [
       "\n",
       "        require([\"https://rawgit.com/caldwell/renderjson/master/renderjson.js\"], function() {\n",
       "        document.getElementById('3521f266-1bc3-42d7-af2d-2ebf7ce39c8e').appendChild(renderjson({\"1\": \"1\", \"2\": \"2\"}))\n",
       "        });\n",
       "        "
      ]
     },
     "metadata": {},
     "output_type": "display_data"
    }
   ],
   "source": [
    "import uuid\n",
    "from IPython.display import display_javascript, display_html, display\n",
    "import json\n",
    "\n",
    "class RenderJSON(object):\n",
    "    def __init__(self, json_data):\n",
    "        if isinstance(json_data, dict):\n",
    "            self.json_str = json.dumps(json_data)\n",
    "        else:\n",
    "            self.json_str = json_data\n",
    "        self.uuid = str(uuid.uuid4())\n",
    "\n",
    "    def _ipython_display_(self):\n",
    "        display_html('<div id=\"{}\" style=\"height: 600px; width:100%;\"></div>'.format(self.uuid), raw=True)\n",
    "        display_javascript(\"\"\"\n",
    "        require([\"https://rawgit.com/caldwell/renderjson/master/renderjson.js\"], function() {\n",
    "        document.getElementById('%s').appendChild(renderjson(%s))\n",
    "        });\n",
    "        \"\"\" % (self.uuid, self.json_str), raw=True)\n",
    "RenderJSON({'1':'1','2':'2'})._ipython_display_()"
   ]
  },
  {
   "cell_type": "code",
   "execution_count": 5,
   "id": "b9ae9ccf",
   "metadata": {},
   "outputs": [],
   "source": []
  },
  {
   "cell_type": "markdown",
   "id": "3b5cd5eb",
   "metadata": {},
   "source": [
    "### Ses Gösterimi"
   ]
  },
  {
   "cell_type": "code",
   "execution_count": 15,
   "id": "0be01e12",
   "metadata": {
    "collapsed": true
   },
   "outputs": [
    {
     "ename": "ValueError",
     "evalue": "rate must be specified when data is a numpy array or list of audio samples.",
     "output_type": "error",
     "traceback": [
      "\u001b[1;31m---------------------------------------------------------------------------\u001b[0m",
      "\u001b[1;31mValueError\u001b[0m                                Traceback (most recent call last)",
      "Cell \u001b[1;32mIn[15], line 6\u001b[0m\n\u001b[0;32m      3\u001b[0m dp\u001b[38;5;241m.\u001b[39mAudio(url\u001b[38;5;241m=\u001b[39m\u001b[38;5;124m\"\u001b[39m\u001b[38;5;124mhttp://www.w3schools.com/html/horse.ogg\u001b[39m\u001b[38;5;124m\"\u001b[39m)  \n\u001b[0;32m      5\u001b[0m \u001b[38;5;66;03m# Dosyadan\u001b[39;00m\n\u001b[1;32m----> 6\u001b[0m \u001b[43mdp\u001b[49m\u001b[38;5;241;43m.\u001b[39;49m\u001b[43mAudio\u001b[49m\u001b[43m(\u001b[49m\u001b[38;5;124;43m'\u001b[39;49m\u001b[38;5;124;43mIPython/lib/tests/test.wav\u001b[39;49m\u001b[38;5;124;43m'\u001b[39;49m\u001b[43m)\u001b[49m  \n\u001b[0;32m      7\u001b[0m dp\u001b[38;5;241m.\u001b[39mAudio(filename\u001b[38;5;241m=\u001b[39m\u001b[38;5;124m'\u001b[39m\u001b[38;5;124mIPython/lib/tests/test.wav\u001b[39m\u001b[38;5;124m'\u001b[39m)  \n\u001b[0;32m      9\u001b[0m \u001b[38;5;66;03m#Bitlerden\u001b[39;00m\n",
      "File \u001b[1;32m~\\anaconda3\\envs\\GPU\\lib\\site-packages\\IPython\\lib\\display.py:129\u001b[0m, in \u001b[0;36mAudio.__init__\u001b[1;34m(self, data, filename, url, embed, rate, autoplay, normalize, element_id)\u001b[0m\n\u001b[0;32m    127\u001b[0m \u001b[38;5;28;01mif\u001b[39;00m \u001b[38;5;28mself\u001b[39m\u001b[38;5;241m.\u001b[39mdata \u001b[38;5;129;01mis\u001b[39;00m \u001b[38;5;129;01mnot\u001b[39;00m \u001b[38;5;28;01mNone\u001b[39;00m \u001b[38;5;129;01mand\u001b[39;00m \u001b[38;5;129;01mnot\u001b[39;00m \u001b[38;5;28misinstance\u001b[39m(\u001b[38;5;28mself\u001b[39m\u001b[38;5;241m.\u001b[39mdata, \u001b[38;5;28mbytes\u001b[39m):\n\u001b[0;32m    128\u001b[0m     \u001b[38;5;28;01mif\u001b[39;00m rate \u001b[38;5;129;01mis\u001b[39;00m \u001b[38;5;28;01mNone\u001b[39;00m:\n\u001b[1;32m--> 129\u001b[0m         \u001b[38;5;28;01mraise\u001b[39;00m \u001b[38;5;167;01mValueError\u001b[39;00m(\u001b[38;5;124m\"\u001b[39m\u001b[38;5;124mrate must be specified when data is a numpy array or list of audio samples.\u001b[39m\u001b[38;5;124m\"\u001b[39m)\n\u001b[0;32m    130\u001b[0m     \u001b[38;5;28mself\u001b[39m\u001b[38;5;241m.\u001b[39mdata \u001b[38;5;241m=\u001b[39m Audio\u001b[38;5;241m.\u001b[39m_make_wav(data, rate, normalize)\n",
      "\u001b[1;31mValueError\u001b[0m: rate must be specified when data is a numpy array or list of audio samples."
     ]
    }
   ],
   "source": [
    "# İnternetten\n",
    "dp.Audio(\"http://www.nch.com.au/acm/8k16bitpcm.wav\")  \n",
    "dp.Audio(url=\"http://www.w3schools.com/html/horse.ogg\")  \n",
    "\n",
    "# Dosyadan\n",
    "dp.Audio('IPython/lib/tests/test.wav')  \n",
    "dp.Audio(filename='IPython/lib/tests/test.wav')  \n",
    "\n",
    "#Bitlerden\n",
    "dp.Audio(b'RAW_WAV_DATA..')  \n",
    "dp.Audio(data=b'RAW_WAV_DATA..')  "
   ]
  },
  {
   "cell_type": "markdown",
   "id": "1bf4f50b",
   "metadata": {},
   "source": [
    "### dosyaya link göstermek"
   ]
  },
  {
   "cell_type": "code",
   "execution_count": 18,
   "id": "f67cf9ad",
   "metadata": {},
   "outputs": [
    {
     "data": {
      "text/html": [
       "<a href='example.txt' target='_blank'>example.txt</a><br>"
      ],
      "text/plain": [
       "C:\\Users\\Asus\\Desktop\\python_projects\\example.txt"
      ]
     },
     "metadata": {},
     "output_type": "display_data"
    }
   ],
   "source": [
    "local_file = dp.FileLink(\"example.txt\")\n",
    "dp.display(local_file)"
   ]
  },
  {
   "cell_type": "markdown",
   "id": "2b45322a",
   "metadata": {},
   "source": [
    "### html göstermek"
   ]
  },
  {
   "cell_type": "code",
   "execution_count": 19,
   "id": "14b12e00",
   "metadata": {
    "collapsed": true
   },
   "outputs": [
    {
     "data": {
      "text/html": [
       "<!doctype html><html itemscope=\"\" itemtype=\"http://schema.org/WebPage\" lang=\"tr\"><head><meta content=\"text/html; charset=UTF-8\" http-equiv=\"Content-Type\"><meta content=\"/images/branding/googleg/1x/googleg_standard_color_128dp.png\" itemprop=\"image\"><title>Google</title><script nonce=\"UXhlzhKy_tvdYGx4d403tw\">(function(){var _g={kEI:'noDTZf_3DfOz2roP8KuPuA0',kEXPI:'0,1365468,206,2414,2390,1132070,1962,1195810,970,379749,44798,23792,284,12035,17580,4998,17075,35733,2711,2872,2891,3926,4423,4011,29843,30847,16335,20583,4,59617,27047,6627,7596,1,42154,2,38003,1758,6700,31122,4568,6258,24664,30158,2912,2,2,1,26632,8155,23351,22435,9779,42459,20198,68057,5122,3030,6610,4541,4665,1804,21011,26071,1632,42268,1198,546,5215547,5927,1015,2,1391,252,451,12,5992859,412,2806254,31653,127,1,469,24,10,7443176,16496299,2769771,1273939,16673,43886,3,1603,3,499,3,2121276,2585,22636438,392913,4126,8673,8408,10755,5910,13023,4427,354,10223,5878,14606,2849,13537,1922,8303,278,2,6,2370,6407,9772,688,3386,2623,2897,7432,2212,153,2066,5962,1063,287,1018,2,714,927,125,3781,218,3,2626,917,1564,4501,5,3308,1078,2814,268,1897,1972,559,1687,300,161,880,2855,8979,4,771,34,17,728,1320,1787,260,1729,22,282,1182,1651,259,1217,2530,1213,4205,890,3836,1701,656,298,361,902,3,50,489,72,422,2633,195,122,774,339,391,155,346,592,537,1009,420,382,7,692,8,2,1165,8,92,59,2,2,2,132,4,801,1,78,209,36,55,179,1,63,494,94,49,59,1459,64,1409,249,11,659,603,82,638,322,320,102,1076,479,214,211,298,2,6,2,63,138,204,595,2034,639,503,541,819,2,1,61,755,453,250,2,402,24,317,135,319,14,125,420,4596,852,159,28,9,2,259,26,245,4,344,258,137,193,16,4,1808,4,21695775,3,237,1687,877,968,1802',kBL:'NhlA',kOPI:89978449};(function(){var a;(null==(a=window.google)?0:a.stvsc)?google.kEI=_g.kEI:window.google=_g;}).call(this);})();(function(){google.sn='webhp';google.kHL='tr';})();(function(){\n",
       "var h=this||self;function l(){return void 0!==window.google&&void 0!==window.google.kOPI&&0!==window.google.kOPI?window.google.kOPI:null};var m,n=[];function p(a){for(var b;a&&(!a.getAttribute||!(b=a.getAttribute(\"eid\")));)a=a.parentNode;return b||m}function q(a){for(var b=null;a&&(!a.getAttribute||!(b=a.getAttribute(\"leid\")));)a=a.parentNode;return b}function r(a){/^http:/i.test(a)&&\"https:\"===window.location.protocol&&(google.ml&&google.ml(Error(\"a\"),!1,{src:a,glmm:1}),a=\"\");return a}\n",
       "function t(a,b,c,d,k){var e=\"\";-1===b.search(\"&ei=\")&&(e=\"&ei=\"+p(d),-1===b.search(\"&lei=\")&&(d=q(d))&&(e+=\"&lei=\"+d));d=\"\";var g=-1===b.search(\"&cshid=\")&&\"slh\"!==a,f=[];f.push([\"zx\",Date.now().toString()]);h._cshid&&g&&f.push([\"cshid\",h._cshid]);c=c();null!=c&&f.push([\"opi\",c.toString()]);for(c=0;c<f.length;c++){if(0===c||0<c)d+=\"&\";d+=f[c][0]+\"=\"+f[c][1]}return\"/\"+(k||\"gen_204\")+\"?atyp=i&ct=\"+String(a)+\"&cad=\"+(b+e+d)};m=google.kEI;google.getEI=p;google.getLEI=q;google.ml=function(){return null};google.log=function(a,b,c,d,k,e){e=void 0===e?l:e;c||(c=t(a,b,e,d,k));if(c=r(c)){a=new Image;var g=n.length;n[g]=a;a.onerror=a.onload=a.onabort=function(){delete n[g]};a.src=c}};google.logUrl=function(a,b){b=void 0===b?l:b;return t(\"\",a,b)};}).call(this);(function(){google.y={};google.sy=[];google.x=function(a,b){if(a)var c=a.id;else{do c=Math.random();while(google.y[c])}google.y[c]=[a,b];return!1};google.sx=function(a){google.sy.push(a)};google.lm=[];google.plm=function(a){google.lm.push.apply(google.lm,a)};google.lq=[];google.load=function(a,b,c){google.lq.push([[a],b,c])};google.loadAll=function(a,b){google.lq.push([a,b])};google.bx=!1;google.lx=function(){};var d=[];google.fce=function(a,b,c,e){d.push([a,b,c,e])};google.qce=d;}).call(this);google.f={};(function(){\n",
       "document.documentElement.addEventListener(\"submit\",function(b){var a;if(a=b.target){var c=a.getAttribute(\"data-submitfalse\");a=\"1\"===c||\"q\"===c&&!a.elements.q.value?!0:!1}else a=!1;a&&(b.preventDefault(),b.stopPropagation())},!0);document.documentElement.addEventListener(\"click\",function(b){var a;a:{for(a=b.target;a&&a!==document.documentElement;a=a.parentElement)if(\"A\"===a.tagName){a=\"1\"===a.getAttribute(\"data-nohref\");break a}a=!1}a&&b.preventDefault()},!0);}).call(this);</script><style>#gbar,#guser{font-size:13px;padding-top:1px !important;}#gbar{height:22px}#guser{padding-bottom:7px !important;text-align:right}.gbh,.gbd{border-top:1px solid #c9d7f1;font-size:1px}.gbh{height:0;position:absolute;top:24px;width:100%}@media all{.gb1{height:22px;margin-right:.5em;vertical-align:top}#gbar{float:left}}a.gb1,a.gb4{text-decoration:underline !important}a.gb1,a.gb4{color:#00c !important}.gbi .gb4{color:#dd8e27 !important}.gbf .gb4{color:#900 !important}\n",
       "</style><style>body,td,a,p,.h{font-family:arial,sans-serif}body{margin:0;overflow-y:scroll}#gog{padding:3px 8px 0}td{line-height:.8em}.gac_m td{line-height:17px}form{margin-bottom:20px}.h{color:#1967d2}em{font-weight:bold;font-style:normal}.lst{height:25px;width:496px}.gsfi,.lst{font:18px arial,sans-serif}.gsfs{font:17px arial,sans-serif}.ds{display:inline-box;display:inline-block;margin:3px 0 4px;margin-left:4px}input{font-family:inherit}body{background:#fff;color:#000}a{color:#681da8;text-decoration:none}a:hover,a:active{text-decoration:underline}.fl a{color:#1967d2}a:visited{color:#681da8}.sblc{padding-top:5px}.sblc a{display:block;margin:2px 0;margin-left:13px;font-size:11px}.lsbb{background:#f8f9fa;border:solid 1px;border-color:#dadce0 #70757a #70757a #dadce0;height:30px}.lsbb{display:block}#WqQANb a{display:inline-block;margin:0 12px}.lsb{background:url(/images/nav_logo229.png) 0 -261px repeat-x;color:#000;border:none;cursor:pointer;height:30px;margin:0;outline:0;font:15px arial,sans-serif;vertical-align:top}.lsb:active{background:#dadce0}.lst:focus{outline:none}.Ucigb{width:458px}</style><script nonce=\"UXhlzhKy_tvdYGx4d403tw\">(function(){window.google.erd={jsr:1,bv:1957,de:true};\n",
       "var h=this||self;var k,l=null!=(k=h.mei)?k:1,n,p=null!=(n=h.sdo)?n:!0,q=0,r,t=google.erd,v=t.jsr;google.ml=function(a,b,d,m,e){e=void 0===e?2:e;b&&(r=a&&a.message);void 0===d&&(d={});d.cad=\"ple_\"+google.ple+\".aple_\"+google.aple;if(google.dl)return google.dl(a,e,d),null;b=d;if(0>v){window.console&&console.error(a,b);if(-2===v)throw a;b=!1}else b=!a||!a.message||\"Error loading script\"===a.message||q>=l&&!m?!1:!0;if(!b)return null;q++;d=d||{};b=encodeURIComponent;var c=\"/gen_204?atyp=i&ei=\"+b(google.kEI);google.kEXPI&&(c+=\"&jexpid=\"+b(google.kEXPI));c+=\"&srcpg=\"+b(google.sn)+\"&jsr=\"+b(t.jsr)+\"&bver=\"+\n",
       "b(t.bv);var f=a.lineNumber;void 0!==f&&(c+=\"&line=\"+f);var g=a.fileName;g&&(0<g.indexOf(\"-extension:/\")&&(e=3),c+=\"&script=\"+b(g),f&&g===window.location.href&&(f=document.documentElement.outerHTML.split(\"\\n\")[f],c+=\"&cad=\"+b(f?f.substring(0,300):\"No script found.\")));google.ple&&1===google.ple&&(e=2);c+=\"&jsel=\"+e;for(var u in d)c+=\"&\",c+=b(u),c+=\"=\",c+=b(d[u]);c=c+\"&emsg=\"+b(a.name+\": \"+a.message);c=c+\"&jsst=\"+b(a.stack||\"N/A\");12288<=c.length&&(c=c.substr(0,12288));a=c;m||google.log(0,\"\",a);return a};window.onerror=function(a,b,d,m,e){r!==a&&(a=e instanceof Error?e:Error(a),void 0===d||\"lineNumber\"in a||(a.lineNumber=d),void 0===b||\"fileName\"in a||(a.fileName=b),google.ml(a,!1,void 0,!1,\"SyntaxError\"===a.name||\"SyntaxError\"===a.message.substring(0,11)||-1!==a.message.indexOf(\"Script error\")?3:0));r=null;p&&q>=l&&(window.onerror=null)};})();</script></head><body bgcolor=\"#fff\"><script nonce=\"UXhlzhKy_tvdYGx4d403tw\">(function(){var src='/images/nav_logo229.png';var iesg=false;document.body.onload = function(){window.n && window.n();if (document.images){new Image().src=src;}\n",
       "if (!iesg){document.f&&document.f.q.focus();document.gbqf&&document.gbqf.q.focus();}\n",
       "}\n",
       "})();</script><div id=\"mngb\"><div id=gbar><nobr><b class=gb1>Arama</b> <a class=gb1 href=\"https://www.google.com/imghp?hl=tr&tab=wi\">Görseller</a> <a class=gb1 href=\"https://maps.google.com.tr/maps?hl=tr&tab=wl\">Haritalar</a> <a class=gb1 href=\"https://play.google.com/?hl=tr&tab=w8\">Play</a> <a class=gb1 href=\"https://www.youtube.com/?tab=w1\">YouTube</a> <a class=gb1 href=\"https://news.google.com/?tab=wn\">Haberler</a> <a class=gb1 href=\"https://mail.google.com/mail/?tab=wm\">Gmail</a> <a class=gb1 href=\"https://drive.google.com/?tab=wo\">Drive</a> <a class=gb1 style=\"text-decoration:none\" href=\"https://www.google.com.tr/intl/tr/about/products?tab=wh\"><u>Daha fazlas&#305;</u> &raquo;</a></nobr></div><div id=guser width=100%><nobr><span id=gbn class=gbi></span><span id=gbf class=gbf></span><span id=gbe></span><a href=\"http://www.google.com.tr/history/optout?hl=tr\" class=gb4>Web Geçmi&#351;i</a> | <a  href=\"/preferences?hl=tr\" class=gb4>Ayarlar</a> | <a target=_top id=gb_70 href=\"https://accounts.google.com/ServiceLogin?hl=tr&passive=true&continue=https://www.google.com/&ec=GAZAAQ\" class=gb4>Oturum aç&#305;n</a></nobr></div><div class=gbh style=left:0></div><div class=gbh style=right:0></div></div><center><br clear=\"all\" id=\"lgpd\"><div id=\"lga\"><img alt=\"Google\" height=\"92\" src=\"/images/branding/googlelogo/1x/googlelogo_white_background_color_272x92dp.png\" style=\"padding:28px 0 14px\" width=\"272\" id=\"hplogo\"><br><br></div><form action=\"/search\" name=\"f\"><table cellpadding=\"0\" cellspacing=\"0\"><tr valign=\"top\"><td width=\"25%\">&nbsp;</td><td align=\"center\" nowrap=\"\"><input name=\"ie\" value=\"ISO-8859-1\" type=\"hidden\"><input value=\"tr\" name=\"hl\" type=\"hidden\"><input name=\"source\" type=\"hidden\" value=\"hp\"><input name=\"biw\" type=\"hidden\"><input name=\"bih\" type=\"hidden\"><div class=\"ds\" style=\"height:32px;margin:4px 0\"><div style=\"position:relative;zoom:1\"><input class=\"lst Ucigb\" style=\"margin:0;padding:5px 8px 0 6px;vertical-align:top;color:#000;padding-right:38px\" autocomplete=\"off\" value=\"\" title=\"Google'da Ara\" maxlength=\"2048\" name=\"q\" size=\"57\"><img src=\"/textinputassistant/tia.png\" style=\"position:absolute;cursor:pointer;right:5px;top:4px;z-index:300\" data-script-url=\"/textinputassistant/13/tr_tia.js\" id=\"tsuid_1\" alt=\"\" height=\"23\" width=\"27\"><script nonce=\"UXhlzhKy_tvdYGx4d403tw\">(function(){var id='tsuid_1';document.getElementById(id).onclick = function(){var s = document.createElement('script');s.src = this.getAttribute('data-script-url');document.body.appendChild(s);};})();</script></div></div><br style=\"line-height:0\"><span class=\"ds\"><span class=\"lsbb\"><input class=\"lsb\" value=\"Google'da Ara\" name=\"btnG\" type=\"submit\"></span></span><span class=\"ds\"><span class=\"lsbb\"><input class=\"lsb\" id=\"tsuid_2\" value=\"Kendimi &#350;ansl&#305; Hissediyorum\" name=\"btnI\" type=\"submit\"><script nonce=\"UXhlzhKy_tvdYGx4d403tw\">(function(){var id='tsuid_2';document.getElementById(id).onclick = function(){if (this.form.q.value){this.checked = 1;if (this.form.iflsig)this.form.iflsig.disabled = false;}\n",
       "else top.location='/doodles/';};})();</script><input value=\"ANes7DEAAAAAZdOOrlhLsvW6AxMrw8nyq35IdlS9gIS1\" name=\"iflsig\" type=\"hidden\"></span></span></td><td class=\"fl sblc\" align=\"left\" nowrap=\"\" width=\"25%\"><a href=\"/advanced_search?hl=tr&amp;authuser=0\">Geli&#351;mi&#351; arama</a></td></tr></table><input id=\"gbv\" name=\"gbv\" type=\"hidden\" value=\"1\"><script nonce=\"UXhlzhKy_tvdYGx4d403tw\">(function(){var a,b=\"1\";if(document&&document.getElementById)if(\"undefined\"!=typeof XMLHttpRequest)b=\"2\";else if(\"undefined\"!=typeof ActiveXObject){var c,d,e=[\"MSXML2.XMLHTTP.6.0\",\"MSXML2.XMLHTTP.3.0\",\"MSXML2.XMLHTTP\",\"Microsoft.XMLHTTP\"];for(c=0;d=e[c++];)try{new ActiveXObject(d),b=\"2\"}catch(h){}}a=b;if(\"2\"==a&&-1==location.search.indexOf(\"&gbv=2\")){var f=google.gbvu,g=document.getElementById(\"gbv\");g&&(g.value=a);f&&window.setTimeout(function(){location.href=f},0)};}).call(this);</script></form><div id=\"gac_scont\"></div><div style=\"font-size:83%;min-height:3.5em\"><br></div><span id=\"footer\"><div style=\"font-size:10pt\"><div style=\"margin:19px auto;text-align:center\" id=\"WqQANb\"><a href=\"/intl/tr/ads/\">Reklam</a><a href=\"http://www.google.com.tr/intl/tr/services/\">&#304;&#351;letme Çözümleri</a><a href=\"/intl/tr/about.html\">Google Hakk&#305;nda</a><a href=\"https://www.google.com/setprefdomain?prefdom=TR&amp;prev=https://www.google.com.tr/&amp;sig=K_YWu3Vjg9Gyb0dsIWpkJw6az2EVk%3D\">Google.com.tr</a></div></div><p style=\"font-size:8pt;color:#70757a\">&copy; 2024 - <a href=\"/intl/tr/policies/privacy/\">Gizlilik</a> - <a href=\"/intl/tr/policies/terms/\">&#350;artlar</a></p></span></center><script nonce=\"UXhlzhKy_tvdYGx4d403tw\">(function(){window.google.cdo={height:757,width:1440};(function(){var a=window.innerWidth,b=window.innerHeight;if(!a||!b){var c=window.document,d=\"CSS1Compat\"==c.compatMode?c.documentElement:c.body;a=d.clientWidth;b=d.clientHeight}\n",
       "if(a&&b&&(a!=google.cdo.width||b!=google.cdo.height)){var e=google,f=e.log,g=\"/client_204?&atyp=i&biw=\"+a+\"&bih=\"+b+\"&ei=\"+google.kEI,h=\"\",k=[],l=void 0!==window.google&&void 0!==window.google.kOPI&&0!==window.google.kOPI?window.google.kOPI:null;null!=l&&k.push([\"opi\",l.toString()]);for(var m=0;m<k.length;m++){if(0===m||0<m)h+=\"&\";h+=k[m][0]+\"=\"+k[m][1]}f.call(e,\"\",\"\",g+h)};}).call(this);})();</script> <script nonce=\"UXhlzhKy_tvdYGx4d403tw\">(function(){google.xjs={ck:'xjs.hp.9v08AbsjPcQ.L.X.O',combam:'AAAAAAAAAAAAAAAAAAAAAAAAAAACAAAAAAAcAABAABAAAABgAAAAAAAAACAAOIiOAGAAjgAA8AI',cs:'ACT90oFAloobCi4bWidHZuSeGaZkrHryew',cssam:'AAAAAAAAAAAAAAAAAAAAAAAAAAAAAAAAAAAAAABAABAAAAAAAAAAAAAAACA',cssopt:false,csss:'ACT90oGMpBwpRaJzBhkUyxt8ylmJwUWuZA',excm:[],jsam:'AAAAAAAAAAAAAAAAAAAAAAAAAAACAAAAAAAcAAAAAAAAAABgAAAAAAAAAAAAOIiOAGAAjgAA8AI',jss:'ACT90oEgSOLPy_aBljPaXheRoRiPX6cPSA',noinlinecss:false,sepam:false,sepcss:false};})();</script>     <script nonce=\"UXhlzhKy_tvdYGx4d403tw\">(function(){var u='/xjs/_/js/k\\x3dxjs.hp.en.WiKjdPHSQuk.O/am\\x3dAAAAAAAAAAAAAAAAAAAAAAAAAAACAAAAAAAcAABAABAAAABgAAAAAAAAACAAOIiOAGAAjgAA8AI/d\\x3d1/ed\\x3d1/rs\\x3dACT90oEgSOLPy_aBljPaXheRoRiPX6cPSA/m\\x3dsb_he,d';var amd=0;\n",
       "var e=this||self,f=function(a){return a};var g;var h=function(a){this.g=a};h.prototype.toString=function(){return this.g+\"\"};var k={};var l=function(){var a=document;var b=\"SCRIPT\";\"application/xhtml+xml\"===a.contentType&&(b=b.toLowerCase());return a.createElement(b)};\n",
       "function m(a,b){a.src=b instanceof h&&b.constructor===h?b.g:\"type_error:TrustedResourceUrl\";var c,d;(c=(b=null==(d=(c=(a.ownerDocument&&a.ownerDocument.defaultView||window).document).querySelector)?void 0:d.call(c,\"script[nonce]\"))?b.nonce||b.getAttribute(\"nonce\")||\"\":\"\")&&a.setAttribute(\"nonce\",c)};function n(a){a=null===a?\"null\":void 0===a?\"undefined\":a;if(void 0===g){var b=null;var c=e.trustedTypes;if(c&&c.createPolicy){try{b=c.createPolicy(\"goog#html\",{createHTML:f,createScript:f,createScriptURL:f})}catch(d){e.console&&e.console.error(d.message)}g=b}else g=b}a=(b=g)?b.createScriptURL(a):a;return new h(a,k)};void 0===google.ps&&(google.ps=[]);function p(){var a=u,b=function(){};google.lx=google.stvsc?b:function(){q(a);google.lx=b};google.bx||google.lx()}function r(a,b){b&&m(a,n(b));var c=a.onload;a.onload=function(d){c&&c(d);google.ps=google.ps.filter(function(t){return a!==t})};google.ps.push(a);document.body.appendChild(a)}google.as=r;function q(a){google.timers&&google.timers.load&&google.tick&&google.tick(\"load\",\"xjsls\");var b=l();b.onerror=function(){google.ple=1};b.onload=function(){google.ple=0};google.xjsus=void 0;r(b,a);google.aple=-1;google.psa=!0};google.xjsu=u;e._F_jsUrl=u;setTimeout(function(){0<amd?google.caft(function(){return p()},amd):p()},0);})();window._ = window._ || {};window._DumpException = _._DumpException = function(e){throw e;};window._s = window._s || {};_s._DumpException = _._DumpException;window._qs = window._qs || {};_qs._DumpException = _._DumpException;(function(){var t=[1,0,0,0,0,2560,0,268436487,528384,33652736,8388608,655360,9340984,37257600,3080192];window._F_toggles = window._xjs_toggles = t;})();function _F_installCss(c){}\n",
       "(function(){google.jl={bfl:0,blt:'none',chnk:0,dw:false,dwu:true,emtn:0,end:0,ico:false,ikb:0,ine:false,injs:'none',injt:0,injth:0,injv2:false,lls:'default',pdt:0,rep:0,snet:true,strt:0,ubm:false,uwp:true};})();(function(){var pmc='{\\x22d\\x22:{},\\x22sb_he\\x22:{\\x22agen\\x22:false,\\x22cgen\\x22:false,\\x22client\\x22:\\x22heirloom-hp\\x22,\\x22dh\\x22:true,\\x22ds\\x22:\\x22\\x22,\\x22fl\\x22:true,\\x22host\\x22:\\x22google.com\\x22,\\x22jsonp\\x22:true,\\x22msgs\\x22:{\\x22cibl\\x22:\\x22Aramay\\\\u0131 Temizle\\x22,\\x22dym\\x22:\\x22Bunu mu demek istediniz?\\x22,\\x22lcky\\x22:\\x22Kendimi \\\\u015eansl\\\\u0131 Hissediyorum\\x22,\\x22lml\\x22:\\x22Daha fazla bilgi edinin\\x22,\\x22psrc\\x22:\\x22Bu arama \\\\u003Ca href\\x3d\\\\\\x22/history\\\\\\x22\\\\u003EWeb Ge\\\\u00e7mi\\\\u015finizden\\\\u003C/a\\\\u003E kald\\\\u0131r\\\\u0131ld\\\\u0131\\x22,\\x22psrl\\x22:\\x22Kald\\\\u0131r\\x22,\\x22sbit\\x22:\\x22G\\\\u00f6rselle ara\\x22,\\x22srch\\x22:\\x22Google\\\\u0026#39;da Ara\\x22},\\x22ovr\\x22:{},\\x22pq\\x22:\\x22\\x22,\\x22rfs\\x22:[],\\x22sbas\\x22:\\x220 3px 8px 0 rgba(0,0,0,0.2),0 0 0 1px rgba(0,0,0,0.08)\\x22,\\x22stok\\x22:\\x22xNTwcFySpjDCEWaj0UCKlyVRIAM\\x22}}';google.pmc=JSON.parse(pmc);})();(function(){var b=function(a){var c=0;return function(){return c<a.length?{done:!1,value:a[c++]}:{done:!0}}};\n",
       "var e=this||self;var g,h;a:{for(var k=[\"CLOSURE_FLAGS\"],l=e,n=0;n<k.length;n++)if(l=l[k[n]],null==l){h=null;break a}h=l}var p=h&&h[610401301];g=null!=p?p:!1;var q,r=e.navigator;q=r?r.userAgentData||null:null;function t(a){return g?q?q.brands.some(function(c){return(c=c.brand)&&-1!=c.indexOf(a)}):!1:!1}function u(a){var c;a:{if(c=e.navigator)if(c=c.userAgent)break a;c=\"\"}return-1!=c.indexOf(a)};function v(){return g?!!q&&0<q.brands.length:!1}function w(){return u(\"Safari\")&&!(x()||(v()?0:u(\"Coast\"))||(v()?0:u(\"Opera\"))||(v()?0:u(\"Edge\"))||(v()?t(\"Microsoft Edge\"):u(\"Edg/\"))||(v()?t(\"Opera\"):u(\"OPR\"))||u(\"Firefox\")||u(\"FxiOS\")||u(\"Silk\")||u(\"Android\"))}function x(){return v()?t(\"Chromium\"):(u(\"Chrome\")||u(\"CriOS\"))&&!(v()?0:u(\"Edge\"))||u(\"Silk\")}function y(){return u(\"Android\")&&!(x()||u(\"Firefox\")||u(\"FxiOS\")||(v()?0:u(\"Opera\"))||u(\"Silk\"))};var z=v()?!1:u(\"Trident\")||u(\"MSIE\");y();x();w();Object.freeze(new function(){});Object.freeze(new function(){});var A=!z&&!w(),D=function(a){if(/-[a-z]/.test(\"ved\"))return null;if(A&&a.dataset){if(y()&&!(\"ved\"in a.dataset))return null;a=a.dataset.ved;return void 0===a?null:a}return a.getAttribute(\"data-\"+\"ved\".replace(/([A-Z])/g,\"-$1\").toLowerCase())};var E=[],F=null;function G(a){a=a.target;var c=performance.now(),f=[],H=f.concat,d=E;if(!(d instanceof Array)){var m=\"undefined\"!=typeof Symbol&&Symbol.iterator&&d[Symbol.iterator];if(m)d=m.call(d);else if(\"number\"==typeof d.length)d={next:b(d)};else throw Error(\"a`\"+String(d));for(var B=[];!(m=d.next()).done;)B.push(m.value);d=B}E=H.call(f,d,[c]);if(a&&a instanceof HTMLElement)if(a===F){if(c=4<=E.length)c=5>(E[E.length-1]-E[E.length-4])/1E3;if(c){c=google.getEI(a);a.hasAttribute(\"data-ved\")?f=a?D(a)||\"\":\"\":f=(f=\n",
       "a.closest(\"[data-ved]\"))?D(f)||\"\":\"\";f=f||\"\";if(a.hasAttribute(\"jsname\"))a=a.getAttribute(\"jsname\");else{var C;a=null==(C=a.closest(\"[jsname]\"))?void 0:C.getAttribute(\"jsname\")}google.log(\"rcm\",\"&ei=\"+c+\"&ved=\"+f+\"&jsname=\"+(a||\"\"))}}else F=a,E=[c]}window.document.addEventListener(\"DOMContentLoaded\",function(){document.body.addEventListener(\"click\",G)});}).call(this);</script></body></html>"
      ],
      "text/plain": [
       "<IPython.core.display.HTML object>"
      ]
     },
     "execution_count": 19,
     "metadata": {},
     "output_type": "execute_result"
    }
   ],
   "source": [
    "dp.HTML(\"https://www.google.com\")"
   ]
  },
  {
   "cell_type": "markdown",
   "id": "cf48bae0",
   "metadata": {},
   "source": [
    "### resim göstermek"
   ]
  },
  {
   "cell_type": "code",
   "execution_count": 20,
   "id": "4b18888e",
   "metadata": {
    "collapsed": true
   },
   "outputs": [
    {
     "data": {
      "text/html": [
       "<img src=\"data:image/png;base64,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\"/>"
      ],
      "text/plain": [
       "<IPython.core.display.Image object>"
      ]
     },
     "execution_count": 20,
     "metadata": {},
     "output_type": "execute_result"
    }
   ],
   "source": [
    "dp.Image(url=\"data:image/png;base64,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\")"
   ]
  },
  {
   "cell_type": "code",
   "execution_count": 39,
   "id": "f4b59e0e",
   "metadata": {},
   "outputs": [
    {
     "data": {
      "text/html": [
       "<progress style='width:60ex' max='100' value='0'></progress>"
      ],
      "text/plain": [
       "[                                                            ] 0/100"
      ]
     },
     "metadata": {},
     "output_type": "display_data"
    }
   ],
   "source": [
    "progressbar = dp.ProgressBar(100)\n",
    "display(progressbar)"
   ]
  },
  {
   "cell_type": "code",
   "execution_count": 41,
   "id": "6de5a190",
   "metadata": {
    "collapsed": true
   },
   "outputs": [
    {
     "data": {
      "text/html": [
       "\n",
       "        <iframe\n",
       "            width=\"400\"\n",
       "            height=\"300\"\n",
       "            src=\"https://www.youtube.com/embed/https://www.youtube.com/watch?v=TFtBClSoD5k?start=30\"\n",
       "            frameborder=\"0\"\n",
       "            allowfullscreen\n",
       "            \n",
       "        ></iframe>\n",
       "        "
      ],
      "text/plain": [
       "<IPython.lib.display.YouTubeVideo at 0x281532ab9a0>"
      ]
     },
     "metadata": {},
     "output_type": "display_data"
    }
   ],
   "source": [
    "vid = dp.YouTubeVideo(\"https://www.youtube.com/watch?v=TFtBClSoD5k\", start=30)\n",
    "display(vid)"
   ]
  },
  {
   "cell_type": "markdown",
   "id": "e98c9db4",
   "metadata": {},
   "source": [
    "### Fonksiyonlar"
   ]
  },
  {
   "cell_type": "code",
   "execution_count": 42,
   "id": "f4359dc6",
   "metadata": {},
   "outputs": [],
   "source": [
    "# Çıktıyı Temizlemek\n",
    "dp.clear_output()\n",
    "dp.display_html()\n",
    "dp.display_jpeg()\n",
    "dp.display_pdf()\n",
    "dp.display_png()"
   ]
  },
  {
   "cell_type": "code",
   "execution_count": null,
   "id": "69a59377",
   "metadata": {},
   "outputs": [],
   "source": []
  }
 ],
 "metadata": {
  "kernelspec": {
   "display_name": "Python 3 (ipykernel)",
   "language": "python",
   "name": "python3"
  },
  "language_info": {
   "codemirror_mode": {
    "name": "ipython",
    "version": 3
   },
   "file_extension": ".py",
   "mimetype": "text/x-python",
   "name": "python",
   "nbconvert_exporter": "python",
   "pygments_lexer": "ipython3",
   "version": "3.9.16"
  }
 },
 "nbformat": 4,
 "nbformat_minor": 5
}
